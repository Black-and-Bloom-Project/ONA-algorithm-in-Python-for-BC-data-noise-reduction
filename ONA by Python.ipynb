{
 "cells": [
  {
   "cell_type": "code",
   "execution_count": 362,
   "metadata": {},
   "outputs": [],
   "source": [
    "# ONA for Python - Noise reduction in Black Carbon data | version 02 (June 2020)\n",
    "\n",
    "# ONA is the Optimized Noise reduction Averaging (ONA) algorithm developed by Hagler et al. (2011) to reduce the occurence of negative values of BC data while preserving the significant dynamics trends in the time series. \n",
    "# More information about ONA can be found in:\n",
    "\n",
    "# Hagler GSW, Yelverton TLB, Vedantham R, Hansen ADA, Turner JR (2011) Post-processing Method to Reduce Noise while Preserving High Time Resolution in Aethalometer Real-time Black Carbon Data. Aerosol and Air Quality Research 11, 539–546. doi: 10.4209/aaqr.2011.05.0055\n",
    "\n",
    "# The original algorithm was developed in MatLab code and this script aims to implement it in Python code.\n",
    "\n",
    "# The script is available at:\n",
    "# https://github.com/ncanha/ONA-algorithm-in-Python-for-BC-data-noise-reduction"
   ]
  },
  {
   "cell_type": "code",
   "execution_count": 363,
   "metadata": {},
   "outputs": [],
   "source": [
    "# This program will look for positive (and final) changes in ATN throughout the data. This code\n",
    "# anticipates that a variable named “BC_ONA” has already been created and has the following\n",
    "# columns – 1) serial timestamp, 2) original BC concentrations, and 3) original ATN values."
   ]
  },
  {
   "cell_type": "code",
   "execution_count": 364,
   "metadata": {},
   "outputs": [],
   "source": [
    "# The example used in this code is regarding BC data obtained by a microAeth® AE51 (from ARTHLABS) \n",
    "# in a monitoring campaign in Greeland."
   ]
  },
  {
   "cell_type": "code",
   "execution_count": 365,
   "metadata": {},
   "outputs": [],
   "source": [
    "# Upload the analysis packages:\n",
    "\n",
    "import numpy as np"
   ]
  },
  {
   "cell_type": "code",
   "execution_count": 366,
   "metadata": {},
   "outputs": [],
   "source": [
    "import matplotlib.pyplot as plot"
   ]
  },
  {
   "cell_type": "code",
   "execution_count": 367,
   "metadata": {},
   "outputs": [],
   "source": [
    "import csv"
   ]
  },
  {
   "cell_type": "code",
   "execution_count": 368,
   "metadata": {},
   "outputs": [],
   "source": [
    "import time"
   ]
  },
  {
   "cell_type": "code",
   "execution_count": 369,
   "metadata": {},
   "outputs": [],
   "source": [
    "import pandas as pd"
   ]
  },
  {
   "cell_type": "code",
   "execution_count": 370,
   "metadata": {},
   "outputs": [],
   "source": [
    "# Check your working folder by using \"pwd\" and then \"cd 'path'\" to enter in the desired folder\n",
    "# the raw csv datafile should be in the working folder"
   ]
  },
  {
   "cell_type": "code",
   "execution_count": 371,
   "metadata": {},
   "outputs": [
    {
     "data": {
      "text/plain": [
       "'C:\\\\Users\\\\Nuno Canha\\\\Desktop\\\\Python\\\\BC\\\\AE51-S6-1113\\\\Test - 1 file'"
      ]
     },
     "execution_count": 371,
     "metadata": {},
     "output_type": "execute_result"
    }
   ],
   "source": [
    "pwd"
   ]
  },
  {
   "cell_type": "code",
   "execution_count": 372,
   "metadata": {},
   "outputs": [
    {
     "name": "stdout",
     "output_type": "stream",
     "text": [
      "C:\\Users\\Nuno Canha\\Desktop\\Python\\BC\\AE51-S6-1113\\all\n"
     ]
    }
   ],
   "source": [
    "cd C:\\Users\\Nuno Canha\\Desktop\\Python\\BC\\AE51-S6-1113\\all"
   ]
  },
  {
   "cell_type": "code",
   "execution_count": 373,
   "metadata": {},
   "outputs": [
    {
     "data": {
      "text/plain": [
       "'C:\\\\Users\\\\Nuno Canha\\\\Desktop\\\\Python\\\\BC\\\\AE51-S6-1113\\\\all'"
      ]
     },
     "execution_count": 373,
     "metadata": {},
     "output_type": "execute_result"
    }
   ],
   "source": [
    "pwd"
   ]
  },
  {
   "cell_type": "code",
   "execution_count": 374,
   "metadata": {},
   "outputs": [],
   "source": [
    "# Preparing data\n",
    "\n",
    "fields = [] \n",
    "rows = [] "
   ]
  },
  {
   "cell_type": "code",
   "execution_count": 375,
   "metadata": {},
   "outputs": [],
   "source": [
    "with open('inputall2.csv') as f:\n",
    "    csvreader = csv.reader(f) \n",
    "    fields = next(csvreader)\n",
    "    \n",
    "    # Extracting each data row one by one \n",
    "    for row in csvreader: \n",
    "        rows.append(row)"
   ]
  },
  {
   "cell_type": "code",
   "execution_count": 376,
   "metadata": {},
   "outputs": [],
   "source": [
    "data = np.array(rows)\n",
    "b= []\n",
    "data_times =[]\n",
    "for i in range(len(data[:,0])):\n",
    "    a=pd.to_datetime(data[i,0])\n",
    "    b.append(a)\n",
    "    \n",
    "    # Time as posix\n",
    "    data_times.append(time.mktime(a.timetuple()))"
   ]
  },
  {
   "cell_type": "code",
   "execution_count": 377,
   "metadata": {},
   "outputs": [],
   "source": [
    "# First column is datetime:\n",
    "data_times = np.array(data_times)\n",
    "\n",
    "# Second column is black carbon data (BC):\n",
    "bc = data[:,1]\n",
    "\n",
    "# Third column is attenuation data (atn):\n",
    "atn = data[:,2]\n",
    "\n",
    "# Create three column BC_ONA matrix: \n",
    "BC_ONA = np.array([data_times,bc,atn])\n",
    "BC_ONA = BC_ONA.transpose()"
   ]
  },
  {
   "cell_type": "code",
   "execution_count": 378,
   "metadata": {},
   "outputs": [
    {
     "data": {
      "text/plain": [
       "array([['1491493140.0', '-204.0', '-0.135'],\n",
       "       ['1491493200.0', '-327.0', '-0.14400000000000002'],\n",
       "       ['1491493260.0', '-75.0', '-0.146'],\n",
       "       ...,\n",
       "       ['1498758900.0', '23.0', '3.6439999999999997'],\n",
       "       ['1498759200.0', '13.0', '3.6460000000000004'],\n",
       "       ['1498759500.0', '42.0', '3.6510000000000002']], dtype='<U32')"
      ]
     },
     "execution_count": 378,
     "metadata": {},
     "output_type": "execute_result"
    }
   ],
   "source": [
    "# Create new variable\n",
    "BC_ONA_ATN=BC_ONA\n",
    "\n",
    "BC_ONA_ATN"
   ]
  },
  {
   "cell_type": "code",
   "execution_count": 379,
   "metadata": {},
   "outputs": [],
   "source": [
    "# Find filter change points\n",
    "temp = np.zeros([len(BC_ONA)-1,1])\n",
    "for i in range(len(BC_ONA)-1):\n",
    "    temp[i,0] = abs(float(BC_ONA_ATN[i+1,2])-float(BC_ONA_ATN[i,2]))\n",
    "temp1= np.array(np.where(temp[:,0]>30))\n",
    "if temp1.size != 0 :\n",
    "    filtchange = np.array([0])\n",
    "    filtchange = np.append(filtchange,temp1)\n",
    "    filtchange = np.append(filtchange,len(BC_ONA_ATN))\n",
    "else:\n",
    "    filtchange = np.array([[0],[len(BC_ONA_ATN)]])\n",
    "del i,temp1"
   ]
  },
  {
   "cell_type": "code",
   "execution_count": 380,
   "metadata": {},
   "outputs": [
    {
     "data": {
      "text/plain": [
       "array([[0.009],\n",
       "       [0.002],\n",
       "       [0.003],\n",
       "       ...,\n",
       "       [0.003],\n",
       "       [0.002],\n",
       "       [0.005]])"
      ]
     },
     "execution_count": 380,
     "metadata": {},
     "output_type": "execute_result"
    }
   ],
   "source": [
    "# Check the new variable \"temp\" that contains the ATN changes between BC measures\n",
    "temp"
   ]
  },
  {
   "cell_type": "code",
   "execution_count": 381,
   "metadata": {},
   "outputs": [
    {
     "data": {
      "text/plain": [
       "12483"
      ]
     },
     "execution_count": 381,
     "metadata": {},
     "output_type": "execute_result"
    }
   ],
   "source": [
    "len(temp)"
   ]
  },
  {
   "cell_type": "code",
   "execution_count": 382,
   "metadata": {},
   "outputs": [
    {
     "data": {
      "text/plain": [
       "12484"
      ]
     },
     "execution_count": 382,
     "metadata": {},
     "output_type": "execute_result"
    }
   ],
   "source": [
    "len(BC_ONA_ATN)"
   ]
  },
  {
   "cell_type": "code",
   "execution_count": 383,
   "metadata": {},
   "outputs": [],
   "source": [
    "# Define the ATN default incremental value\n",
    "delATN=0.05"
   ]
  },
  {
   "cell_type": "code",
   "execution_count": 384,
   "metadata": {},
   "outputs": [],
   "source": [
    "# Calculate smoothed BC\n",
    "temp = np.zeros([len(BC_ONA_ATN),4])\n",
    "temp[:,:-1] = BC_ONA_ATN\n",
    "BC_ONA_ATN = temp\n",
    "del temp\n",
    "BC_ONA_ATN[:,3] = 1\n",
    "temp = np.array([])\n",
    "for i in range(len(BC_ONA_ATN[:,2])):\n",
    "    if BC_ONA_ATN[i,2] != '-':\n",
    "        temp2 = float(BC_ONA[i,2]) \n",
    "        temp = np.append(temp,temp2)  \n",
    "        del temp2\n",
    "for k in range(len(filtchange)-1):\n",
    "    j = filtchange[k] # Set to first point after filter change\n",
    "    j = int(j)\n",
    "    for i in range(j,len(BC_ONA_ATN)):\n",
    "        if j<filtchange[k+1]:\n",
    "            if i==j:\n",
    "                des_ind =np.where(temp[j:len(BC_ONA_ATN)]<=(temp[j]+delATN))\n",
    "                temp2 = des_ind[-1]\n",
    "                # des_ind = des_ind[-1]\n",
    "                # if len(des_ind) == 0:\n",
    "                if len(temp2) != 0:\n",
    "                    \n",
    "                    # Calculated smoothed new BC\n",
    "                    BC_ONA_ATN[j:temp2[-1]+j+1,1]=np.nanmean(BC_ONA_ATN[j:temp2[-1]+j+1,1])      \n",
    "                    \n",
    "                    # Calculate averaging period\n",
    "                    BC_ONA_ATN[j:temp2[-1]+j+1,3]=len(BC_ONA_ATN[j:temp2[-1]+j+1,1])\n",
    "                    j = j+temp2[-1]+1\n",
    "                else:\n",
    "                    j = j+1\n",
    "del filtchange"
   ]
  },
  {
   "cell_type": "code",
   "execution_count": 385,
   "metadata": {},
   "outputs": [
    {
     "data": {
      "text/plain": [
       "array([[ 1.49149314e+09,  1.11103448e+01, -1.35000000e-01,\n",
       "         1.45000000e+02],\n",
       "       [ 1.49149320e+09,  1.11103448e+01, -1.44000000e-01,\n",
       "         1.45000000e+02],\n",
       "       [ 1.49149326e+09,  1.11103448e+01, -1.46000000e-01,\n",
       "         1.45000000e+02],\n",
       "       ...,\n",
       "       [ 1.49875890e+09,  4.51666667e+01,  3.64400000e+00,\n",
       "         6.00000000e+00],\n",
       "       [ 1.49875920e+09,  4.51666667e+01,  3.64600000e+00,\n",
       "         6.00000000e+00],\n",
       "       [ 1.49875950e+09,  4.51666667e+01,  3.65100000e+00,\n",
       "         6.00000000e+00]])"
      ]
     },
     "execution_count": 385,
     "metadata": {},
     "output_type": "execute_result"
    }
   ],
   "source": [
    "# The variable \"BC_ONA_ATN\" contains now 4 different collumns: \"Time\" (as posix), \"Corrected BC\", \"ATN\" and \"points average\"\n",
    "BC_ONA_ATN"
   ]
  },
  {
   "cell_type": "code",
   "execution_count": 386,
   "metadata": {},
   "outputs": [],
   "source": [
    "# METRICS OF SMOOTHING PERFORMANCE \n",
    "# The code from this point forwards only displays the results and does not do any data alteration."
   ]
  },
  {
   "cell_type": "code",
   "execution_count": 387,
   "metadata": {},
   "outputs": [
    {
     "name": "stdout",
     "output_type": "stream",
     "text": [
      "Fraction of negative values in original dataset =  0.43743992310157\n",
      "Fraction of negative values after ONA correction =  0.024991989746876\n"
     ]
    }
   ],
   "source": [
    "#1. Reduction of negatives - fraction in original vs. remaining\n",
    "temp2 = 0\n",
    "temp3 = 0\n",
    "\n",
    "for i in range(len(BC_ONA[:,1])):\n",
    "    if BC_ONA_ATN[i,1] != '':\n",
    "        if float(BC_ONA[i,1])<0:\n",
    "            temp2 += 1\n",
    "    if BC_ONA_ATN[i,1] != '-':\n",
    "            if float(BC_ONA_ATN[i,1])<0:\n",
    "             temp3 += 1     \n",
    "\n",
    "numneg_org=temp2/len(BC_ONA[:,1])\n",
    "numneg_filt=temp3/len(BC_ONA[:,1])\n",
    "del temp2,temp3\n",
    "print(\"Fraction of negative values in original dataset = \",numneg_org)\n",
    "print(\"Fraction of negative values after ONA correction = \",numneg_filt)\n",
    "del numneg_org,numneg_filt"
   ]
  },
  {
   "cell_type": "code",
   "execution_count": 388,
   "metadata": {},
   "outputs": [
    {
     "name": "stdout",
     "output_type": "stream",
     "text": [
      "BC Noise reduction (from to, in ng.m-3): [55.99855804  0.15233991]\n"
     ]
    },
    {
     "data": {
      "image/png": "[encoded data removed]",
      "text/plain": [
       "<Figure size 864x432 with 1 Axes>"
      ]
     },
     "metadata": {
      "needs_background": "light"
     },
     "output_type": "display_data"
    }
   ],
   "source": [
    "#2. Reduction of noise\n",
    "\n",
    "temp = np.zeros([len(BC_ONA)-1,2])\n",
    "for i in range(len(BC_ONA)-1):\n",
    "    if BC_ONA_ATN[i,1] != '' and BC_ONA_ATN[i+1,1] != '':\n",
    "        temp[i,0]=abs(float(BC_ONA[i+1,1])-float(BC_ONA[i,1]))\n",
    "    if BC_ONA_ATN[i,1] != '-' and BC_ONA_ATN[i+1,1] != '-':\n",
    "        temp[i,1]=abs(float(BC_ONA_ATN[i+1,1])-float(BC_ONA_ATN[i,1]))\n",
    "\n",
    "noise = np.array([np.nanmean(temp[:,0]),np.nanmean(temp[:,1])])\n",
    "langs = ['Original dataset','ONA corrected dataset']\n",
    "fig = plot.figure()\n",
    "plot.bar(langs,noise)\n",
    "plot.title ('Reduction of Noise between BC measurements')\n",
    "plot.ylabel('Avg Abs BC$_{t+1 - t}$ (ng.$m^-$$^3$)')\n",
    "plot.rcParams['figure.figsize']=[12,6]\n",
    "plot.savefig('Figure 1 - Noise Reduction.png')\n",
    "\n",
    "print('BC Noise reduction (from to, in ng.m-3):', noise)"
   ]
  },
  {
   "cell_type": "code",
   "execution_count": 389,
   "metadata": {},
   "outputs": [
    {
     "data": {
      "image/png": "[encoded data removed]",
      "text/plain": [
       "<Figure size 864x432 with 1 Axes>"
      ]
     },
     "metadata": {
      "needs_background": "light"
     },
     "output_type": "display_data"
    }
   ],
   "source": [
    "#3. Averaging interval and histogram of points averaged\n",
    "\n",
    "time_inc = abs(float(BC_ONA[1,0])-float(BC_ONA[0,0]))\n",
    "temp = BC_ONA_ATN[:,3].astype(np.float)\n",
    "timeavg = np.array([time_inc,np.nanmean(temp)*time_inc])\n",
    "fig2 = plot.figure()\n",
    "plot.title ('Averaged time after ONA correction')\n",
    "plot.bar(langs,timeavg)\n",
    "plot.ylabel('avg timebase (s)')\n",
    "plot.savefig('Figure 2 - Averaged time after ONA correction.png')"
   ]
  },
  {
   "cell_type": "code",
   "execution_count": 390,
   "metadata": {},
   "outputs": [
    {
     "data": {
      "image/png": "[encoded data removed]",
      "text/plain": [
       "<Figure size 864x432 with 1 Axes>"
      ]
     },
     "metadata": {
      "needs_background": "light"
     },
     "output_type": "display_data"
    }
   ],
   "source": [
    "del time_inc,temp,timeavg\n",
    "fig3 = plot.figure()\n",
    "plot.hist(BC_ONA_ATN[:,3], bins = 10)\n",
    "plot.title ('Histogram of points averaged')\n",
    "plot.xlabel('# pts averaged')\n",
    "plot.ylabel('N pts affected')\n",
    "plot.savefig('Figure 3 - Histogram of points averaged.png')"
   ]
  },
  {
   "cell_type": "code",
   "execution_count": null,
   "metadata": {},
   "outputs": [],
   "source": []
  },
  {
   "cell_type": "code",
   "execution_count": 391,
   "metadata": {},
   "outputs": [
    {
     "data": {
      "image/png": "[encoded data removed]",
      "text/plain": [
       "<Figure size 864x432 with 2 Axes>"
      ]
     },
     "metadata": {},
     "output_type": "display_data"
    }
   ],
   "source": [
    "#4. Before - top figure BC time series, bottom figure ATN time series\n",
    "\n",
    "fig4 = plot.figure()\n",
    "\n",
    "# posix times and datetimes\n",
    "plot.subplot(211)\n",
    "yticks = [-2000,0,2000]\n",
    "plot.plot(BC_ONA[::10,0], BC_ONA[::10,1],linewidth=0.75)\n",
    "plot.yticks(yticks)\n",
    "plot.ylabel('BC (ng.$m^-$$^3$)')\n",
    "plot.tick_params(axis='both', which='both', bottom=False, top=False, labelbottom=False, right=False, left=False, labelleft=False)\n",
    "\n",
    "# posix times:\n",
    "plot.subplot(212)\n",
    "plot.plot(BC_ONA[::10,0], BC_ONA[::10,2],linewidth=0.75)\n",
    "plot.ylabel('ATN')\n",
    "plot.xlabel('Date')\n",
    "plot.tick_params(axis='both', which='both', bottom=False, top=False, labelbottom=False, right=False, left=False, labelleft=False)\n",
    "\n",
    "plot.savefig('Figure 4 - Before BC and ATN time series.png')"
   ]
  },
  {
   "cell_type": "code",
   "execution_count": 392,
   "metadata": {},
   "outputs": [
    {
     "data": {
      "image/png": "[encoded data removed]",
      "text/plain": [
       "<Figure size 864x432 with 3 Axes>"
      ]
     },
     "metadata": {
      "needs_background": "light"
     },
     "output_type": "display_data"
    }
   ],
   "source": [
    "#5 After - top figure BC and BC-ONA time series, bottom figure averaging time\n",
    "fig5 = plot.figure()\n",
    "plot.subplot(221)\n",
    "yticks = [-2000,0,2000]\n",
    "plot.yticks(yticks)\n",
    "plot.plot(BC_ONA[::10,0], BC_ONA[::10,1],color ='black',linewidth=0.5)\n",
    "plot.tick_params(axis='both', which='both', bottom=False, top=False, labelbottom=False, right=False, left=True, labelleft=False)\n",
    "plot.ylabel('average BC concentration (ng m^-^3)')\n",
    "plot.axis('equal')\n",
    "plot.subplot(222)\n",
    "\n",
    "plot.plot(BC_ONA_ATN[:,0], BC_ONA_ATN[:,1],color ='green', marker='o')\n",
    "plot.xlabel('time')\n",
    "plot.axis([min(BC_ONA_ATN[:,0]), max(BC_ONA_ATN[:,0]),0,300])\n",
    "plot.ylabel('average ONA BC concentration (ng.$m^-$$^3$)')\n",
    "\n",
    "plot.subplot(223)\n",
    "plot.plot(BC_ONA_ATN[:,0], BC_ONA_ATN[::,3],color ='blue',linewidth=1)\n",
    "plot.xlabel('time')\n",
    "plot.ylabel('# pts averaged')\n",
    "\n",
    "plot.savefig('Figure 5 - BC and BC-ONA time series.png')"
   ]
  },
  {
   "cell_type": "code",
   "execution_count": 393,
   "metadata": {},
   "outputs": [
    {
     "data": {
      "text/plain": [
       "array([[ 1.49149314e+09,  1.11103448e+01, -1.35000000e-01,\n",
       "         1.45000000e+02],\n",
       "       [ 1.49149320e+09,  1.11103448e+01, -1.44000000e-01,\n",
       "         1.45000000e+02],\n",
       "       [ 1.49149326e+09,  1.11103448e+01, -1.46000000e-01,\n",
       "         1.45000000e+02],\n",
       "       ...,\n",
       "       [ 1.49875890e+09,  4.51666667e+01,  3.64400000e+00,\n",
       "         6.00000000e+00],\n",
       "       [ 1.49875920e+09,  4.51666667e+01,  3.64600000e+00,\n",
       "         6.00000000e+00],\n",
       "       [ 1.49875950e+09,  4.51666667e+01,  3.65100000e+00,\n",
       "         6.00000000e+00]])"
      ]
     },
     "execution_count": 393,
     "metadata": {},
     "output_type": "execute_result"
    }
   ],
   "source": [
    "# Conversion of Numpy array to Pandas dataframe of BC_ONA_ATN\n",
    "BC_ONA_ATN"
   ]
  },
  {
   "cell_type": "code",
   "execution_count": 394,
   "metadata": {},
   "outputs": [],
   "source": [
    "Final_BC_ONA = pd.DataFrame({'Timestamp': BC_ONA_ATN[:,0],'BC ONA': BC_ONA_ATN[:,1],'ATN': BC_ONA_ATN[:,2],'Points averaged': BC_ONA_ATN[:,3],})"
   ]
  },
  {
   "cell_type": "code",
   "execution_count": 395,
   "metadata": {},
   "outputs": [
    {
     "data": {
      "text/html": [
       "<div>\n",
       "<style scoped>\n",
       "    .dataframe tbody tr th:only-of-type {\n",
       "        vertical-align: middle;\n",
       "    }\n",
       "\n",
       "    .dataframe tbody tr th {\n",
       "        vertical-align: top;\n",
       "    }\n",
       "\n",
       "    .dataframe thead th {\n",
       "        text-align: right;\n",
       "    }\n",
       "</style>\n",
       "<table border=\"1\" class=\"dataframe\">\n",
       "  <thead>\n",
       "    <tr style=\"text-align: right;\">\n",
       "      <th></th>\n",
       "      <th>Timestamp</th>\n",
       "      <th>BC ONA</th>\n",
       "      <th>ATN</th>\n",
       "      <th>Points averaged</th>\n",
       "    </tr>\n",
       "  </thead>\n",
       "  <tbody>\n",
       "    <tr>\n",
       "      <th>0</th>\n",
       "      <td>1.491493e+09</td>\n",
       "      <td>11.110345</td>\n",
       "      <td>-0.135</td>\n",
       "      <td>145.0</td>\n",
       "    </tr>\n",
       "    <tr>\n",
       "      <th>1</th>\n",
       "      <td>1.491493e+09</td>\n",
       "      <td>11.110345</td>\n",
       "      <td>-0.144</td>\n",
       "      <td>145.0</td>\n",
       "    </tr>\n",
       "    <tr>\n",
       "      <th>2</th>\n",
       "      <td>1.491493e+09</td>\n",
       "      <td>11.110345</td>\n",
       "      <td>-0.146</td>\n",
       "      <td>145.0</td>\n",
       "    </tr>\n",
       "    <tr>\n",
       "      <th>3</th>\n",
       "      <td>1.491493e+09</td>\n",
       "      <td>11.110345</td>\n",
       "      <td>-0.143</td>\n",
       "      <td>145.0</td>\n",
       "    </tr>\n",
       "    <tr>\n",
       "      <th>4</th>\n",
       "      <td>1.491493e+09</td>\n",
       "      <td>11.110345</td>\n",
       "      <td>-0.145</td>\n",
       "      <td>145.0</td>\n",
       "    </tr>\n",
       "    <tr>\n",
       "      <th>...</th>\n",
       "      <td>...</td>\n",
       "      <td>...</td>\n",
       "      <td>...</td>\n",
       "      <td>...</td>\n",
       "    </tr>\n",
       "    <tr>\n",
       "      <th>12479</th>\n",
       "      <td>1.498758e+09</td>\n",
       "      <td>45.166667</td>\n",
       "      <td>3.633</td>\n",
       "      <td>6.0</td>\n",
       "    </tr>\n",
       "    <tr>\n",
       "      <th>12480</th>\n",
       "      <td>1.498759e+09</td>\n",
       "      <td>45.166667</td>\n",
       "      <td>3.641</td>\n",
       "      <td>6.0</td>\n",
       "    </tr>\n",
       "    <tr>\n",
       "      <th>12481</th>\n",
       "      <td>1.498759e+09</td>\n",
       "      <td>45.166667</td>\n",
       "      <td>3.644</td>\n",
       "      <td>6.0</td>\n",
       "    </tr>\n",
       "    <tr>\n",
       "      <th>12482</th>\n",
       "      <td>1.498759e+09</td>\n",
       "      <td>45.166667</td>\n",
       "      <td>3.646</td>\n",
       "      <td>6.0</td>\n",
       "    </tr>\n",
       "    <tr>\n",
       "      <th>12483</th>\n",
       "      <td>1.498760e+09</td>\n",
       "      <td>45.166667</td>\n",
       "      <td>3.651</td>\n",
       "      <td>6.0</td>\n",
       "    </tr>\n",
       "  </tbody>\n",
       "</table>\n",
       "<p>12484 rows × 4 columns</p>\n",
       "</div>"
      ],
      "text/plain": [
       "          Timestamp     BC ONA    ATN  Points averaged\n",
       "0      1.491493e+09  11.110345 -0.135            145.0\n",
       "1      1.491493e+09  11.110345 -0.144            145.0\n",
       "2      1.491493e+09  11.110345 -0.146            145.0\n",
       "3      1.491493e+09  11.110345 -0.143            145.0\n",
       "4      1.491493e+09  11.110345 -0.145            145.0\n",
       "...             ...        ...    ...              ...\n",
       "12479  1.498758e+09  45.166667  3.633              6.0\n",
       "12480  1.498759e+09  45.166667  3.641              6.0\n",
       "12481  1.498759e+09  45.166667  3.644              6.0\n",
       "12482  1.498759e+09  45.166667  3.646              6.0\n",
       "12483  1.498760e+09  45.166667  3.651              6.0\n",
       "\n",
       "[12484 rows x 4 columns]"
      ]
     },
     "execution_count": 395,
     "metadata": {},
     "output_type": "execute_result"
    }
   ],
   "source": [
    "Final_BC_ONA"
   ]
  },
  {
   "cell_type": "code",
   "execution_count": 396,
   "metadata": {},
   "outputs": [],
   "source": [
    "# Check the number of occurencies of negative concentrations of BC:\n",
    "\n",
    "neg=Final_BC_ONA[['BC ONA']].agg(lambda x: sum(x < 0)).sum()"
   ]
  },
  {
   "cell_type": "code",
   "execution_count": 397,
   "metadata": {},
   "outputs": [
    {
     "data": {
      "text/plain": [
       "312"
      ]
     },
     "execution_count": 397,
     "metadata": {},
     "output_type": "execute_result"
    }
   ],
   "source": [
    "neg"
   ]
  },
  {
   "cell_type": "code",
   "execution_count": 398,
   "metadata": {},
   "outputs": [
    {
     "name": "stdout",
     "output_type": "stream",
     "text": [
      "12484\n"
     ]
    }
   ],
   "source": [
    "# Total number of concentrations values available for BC:\n",
    "total=len(Final_BC_ONA['BC ONA'])\n",
    "print(total)"
   ]
  },
  {
   "cell_type": "code",
   "execution_count": 399,
   "metadata": {},
   "outputs": [
    {
     "name": "stdout",
     "output_type": "stream",
     "text": [
      "The percentage of negative BC values in the dataset is 2 %.\n"
     ]
    }
   ],
   "source": [
    "# Calculate the percentage of BC negative values:\n",
    "pneg = neg/total*100\n",
    "print(\"The percentage of negative BC values in the dataset is\", pneg.round(0).astype(int), \"%.\" )"
   ]
  },
  {
   "cell_type": "code",
   "execution_count": 400,
   "metadata": {},
   "outputs": [
    {
     "data": {
      "text/html": [
       "<div>\n",
       "<style scoped>\n",
       "    .dataframe tbody tr th:only-of-type {\n",
       "        vertical-align: middle;\n",
       "    }\n",
       "\n",
       "    .dataframe tbody tr th {\n",
       "        vertical-align: top;\n",
       "    }\n",
       "\n",
       "    .dataframe thead th {\n",
       "        text-align: right;\n",
       "    }\n",
       "</style>\n",
       "<table border=\"1\" class=\"dataframe\">\n",
       "  <thead>\n",
       "    <tr style=\"text-align: right;\">\n",
       "      <th></th>\n",
       "      <th>Timestamp</th>\n",
       "      <th>BC ONA</th>\n",
       "      <th>ATN</th>\n",
       "      <th>Points averaged</th>\n",
       "    </tr>\n",
       "  </thead>\n",
       "  <tbody>\n",
       "    <tr>\n",
       "      <th>0</th>\n",
       "      <td>2017-04-06 15:39:00</td>\n",
       "      <td>11.110345</td>\n",
       "      <td>-0.135</td>\n",
       "      <td>145.0</td>\n",
       "    </tr>\n",
       "    <tr>\n",
       "      <th>1</th>\n",
       "      <td>2017-04-06 15:40:00</td>\n",
       "      <td>11.110345</td>\n",
       "      <td>-0.144</td>\n",
       "      <td>145.0</td>\n",
       "    </tr>\n",
       "    <tr>\n",
       "      <th>2</th>\n",
       "      <td>2017-04-06 15:41:00</td>\n",
       "      <td>11.110345</td>\n",
       "      <td>-0.146</td>\n",
       "      <td>145.0</td>\n",
       "    </tr>\n",
       "    <tr>\n",
       "      <th>3</th>\n",
       "      <td>2017-04-06 15:42:00</td>\n",
       "      <td>11.110345</td>\n",
       "      <td>-0.143</td>\n",
       "      <td>145.0</td>\n",
       "    </tr>\n",
       "    <tr>\n",
       "      <th>4</th>\n",
       "      <td>2017-04-06 15:43:00</td>\n",
       "      <td>11.110345</td>\n",
       "      <td>-0.145</td>\n",
       "      <td>145.0</td>\n",
       "    </tr>\n",
       "    <tr>\n",
       "      <th>...</th>\n",
       "      <td>...</td>\n",
       "      <td>...</td>\n",
       "      <td>...</td>\n",
       "      <td>...</td>\n",
       "    </tr>\n",
       "    <tr>\n",
       "      <th>12479</th>\n",
       "      <td>2017-06-29 17:45:00</td>\n",
       "      <td>45.166667</td>\n",
       "      <td>3.633</td>\n",
       "      <td>6.0</td>\n",
       "    </tr>\n",
       "    <tr>\n",
       "      <th>12480</th>\n",
       "      <td>2017-06-29 17:50:00</td>\n",
       "      <td>45.166667</td>\n",
       "      <td>3.641</td>\n",
       "      <td>6.0</td>\n",
       "    </tr>\n",
       "    <tr>\n",
       "      <th>12481</th>\n",
       "      <td>2017-06-29 17:55:00</td>\n",
       "      <td>45.166667</td>\n",
       "      <td>3.644</td>\n",
       "      <td>6.0</td>\n",
       "    </tr>\n",
       "    <tr>\n",
       "      <th>12482</th>\n",
       "      <td>2017-06-29 18:00:00</td>\n",
       "      <td>45.166667</td>\n",
       "      <td>3.646</td>\n",
       "      <td>6.0</td>\n",
       "    </tr>\n",
       "    <tr>\n",
       "      <th>12483</th>\n",
       "      <td>2017-06-29 18:05:00</td>\n",
       "      <td>45.166667</td>\n",
       "      <td>3.651</td>\n",
       "      <td>6.0</td>\n",
       "    </tr>\n",
       "  </tbody>\n",
       "</table>\n",
       "<p>12484 rows × 4 columns</p>\n",
       "</div>"
      ],
      "text/plain": [
       "                Timestamp     BC ONA    ATN  Points averaged\n",
       "0     2017-04-06 15:39:00  11.110345 -0.135            145.0\n",
       "1     2017-04-06 15:40:00  11.110345 -0.144            145.0\n",
       "2     2017-04-06 15:41:00  11.110345 -0.146            145.0\n",
       "3     2017-04-06 15:42:00  11.110345 -0.143            145.0\n",
       "4     2017-04-06 15:43:00  11.110345 -0.145            145.0\n",
       "...                   ...        ...    ...              ...\n",
       "12479 2017-06-29 17:45:00  45.166667  3.633              6.0\n",
       "12480 2017-06-29 17:50:00  45.166667  3.641              6.0\n",
       "12481 2017-06-29 17:55:00  45.166667  3.644              6.0\n",
       "12482 2017-06-29 18:00:00  45.166667  3.646              6.0\n",
       "12483 2017-06-29 18:05:00  45.166667  3.651              6.0\n",
       "\n",
       "[12484 rows x 4 columns]"
      ]
     },
     "execution_count": 400,
     "metadata": {},
     "output_type": "execute_result"
    }
   ],
   "source": [
    "# Conversion of timestamp from Posix to Year-Month-Day Hour:Minute\n",
    "Final_BC_ONA['Timestamp'] = pd.to_datetime(Final_BC_ONA['Timestamp'],unit='s', dayfirst=True )\n",
    "Final_BC_ONA"
   ]
  },
  {
   "cell_type": "code",
   "execution_count": 401,
   "metadata": {},
   "outputs": [
    {
     "data": {
      "text/html": [
       "<div>\n",
       "<style scoped>\n",
       "    .dataframe tbody tr th:only-of-type {\n",
       "        vertical-align: middle;\n",
       "    }\n",
       "\n",
       "    .dataframe tbody tr th {\n",
       "        vertical-align: top;\n",
       "    }\n",
       "\n",
       "    .dataframe thead th {\n",
       "        text-align: right;\n",
       "    }\n",
       "</style>\n",
       "<table border=\"1\" class=\"dataframe\">\n",
       "  <thead>\n",
       "    <tr style=\"text-align: right;\">\n",
       "      <th></th>\n",
       "      <th>Timestamp</th>\n",
       "      <th>BC ONA</th>\n",
       "      <th>ATN</th>\n",
       "      <th>Points averaged</th>\n",
       "    </tr>\n",
       "  </thead>\n",
       "  <tbody>\n",
       "    <tr>\n",
       "      <th>0</th>\n",
       "      <td>2017-04-06 15:39:00</td>\n",
       "      <td>11.110345</td>\n",
       "      <td>-0.135</td>\n",
       "      <td>145.0</td>\n",
       "    </tr>\n",
       "    <tr>\n",
       "      <th>1</th>\n",
       "      <td>2017-04-06 15:40:00</td>\n",
       "      <td>11.110345</td>\n",
       "      <td>-0.144</td>\n",
       "      <td>145.0</td>\n",
       "    </tr>\n",
       "    <tr>\n",
       "      <th>2</th>\n",
       "      <td>2017-04-06 15:41:00</td>\n",
       "      <td>11.110345</td>\n",
       "      <td>-0.146</td>\n",
       "      <td>145.0</td>\n",
       "    </tr>\n",
       "    <tr>\n",
       "      <th>3</th>\n",
       "      <td>2017-04-06 15:42:00</td>\n",
       "      <td>11.110345</td>\n",
       "      <td>-0.143</td>\n",
       "      <td>145.0</td>\n",
       "    </tr>\n",
       "    <tr>\n",
       "      <th>4</th>\n",
       "      <td>2017-04-06 15:43:00</td>\n",
       "      <td>11.110345</td>\n",
       "      <td>-0.145</td>\n",
       "      <td>145.0</td>\n",
       "    </tr>\n",
       "    <tr>\n",
       "      <th>...</th>\n",
       "      <td>...</td>\n",
       "      <td>...</td>\n",
       "      <td>...</td>\n",
       "      <td>...</td>\n",
       "    </tr>\n",
       "    <tr>\n",
       "      <th>6173</th>\n",
       "      <td>2017-10-06 05:16:00</td>\n",
       "      <td>7.345347</td>\n",
       "      <td>2.218</td>\n",
       "      <td>8629.0</td>\n",
       "    </tr>\n",
       "    <tr>\n",
       "      <th>6174</th>\n",
       "      <td>2017-10-06 05:17:00</td>\n",
       "      <td>7.345347</td>\n",
       "      <td>2.218</td>\n",
       "      <td>8629.0</td>\n",
       "    </tr>\n",
       "    <tr>\n",
       "      <th>6175</th>\n",
       "      <td>2017-10-06 05:18:00</td>\n",
       "      <td>7.345347</td>\n",
       "      <td>2.218</td>\n",
       "      <td>8629.0</td>\n",
       "    </tr>\n",
       "    <tr>\n",
       "      <th>6176</th>\n",
       "      <td>2017-10-06 05:19:00</td>\n",
       "      <td>7.345347</td>\n",
       "      <td>2.217</td>\n",
       "      <td>8629.0</td>\n",
       "    </tr>\n",
       "    <tr>\n",
       "      <th>6177</th>\n",
       "      <td>2017-10-06 05:20:00</td>\n",
       "      <td>7.345347</td>\n",
       "      <td>2.216</td>\n",
       "      <td>8629.0</td>\n",
       "    </tr>\n",
       "  </tbody>\n",
       "</table>\n",
       "<p>6178 rows × 4 columns</p>\n",
       "</div>"
      ],
      "text/plain": [
       "               Timestamp     BC ONA    ATN  Points averaged\n",
       "0    2017-04-06 15:39:00  11.110345 -0.135            145.0\n",
       "1    2017-04-06 15:40:00  11.110345 -0.144            145.0\n",
       "2    2017-04-06 15:41:00  11.110345 -0.146            145.0\n",
       "3    2017-04-06 15:42:00  11.110345 -0.143            145.0\n",
       "4    2017-04-06 15:43:00  11.110345 -0.145            145.0\n",
       "...                  ...        ...    ...              ...\n",
       "6173 2017-10-06 05:16:00   7.345347  2.218           8629.0\n",
       "6174 2017-10-06 05:17:00   7.345347  2.218           8629.0\n",
       "6175 2017-10-06 05:18:00   7.345347  2.218           8629.0\n",
       "6176 2017-10-06 05:19:00   7.345347  2.217           8629.0\n",
       "6177 2017-10-06 05:20:00   7.345347  2.216           8629.0\n",
       "\n",
       "[6178 rows x 4 columns]"
      ]
     },
     "execution_count": 401,
     "metadata": {},
     "output_type": "execute_result"
    }
   ],
   "source": [
    "# This conversion of the timestamp did not works properly (problems with days/months). \n",
    "Final_BC_ONA.head(6178)"
   ]
  },
  {
   "cell_type": "code",
   "execution_count": 402,
   "metadata": {},
   "outputs": [],
   "source": [
    "# Therefore, in order to avoid any problems with dates, the original timestamp from the initial input csv will be used."
   ]
  },
  {
   "cell_type": "code",
   "execution_count": 403,
   "metadata": {},
   "outputs": [],
   "source": [
    "# Histogram of ONA BC data"
   ]
  },
  {
   "cell_type": "code",
   "execution_count": 404,
   "metadata": {},
   "outputs": [],
   "source": [
    "Hist_BC_ONA=Final_BC_ONA[['BC ONA']]"
   ]
  },
  {
   "cell_type": "code",
   "execution_count": null,
   "metadata": {},
   "outputs": [],
   "source": []
  },
  {
   "cell_type": "code",
   "execution_count": 405,
   "metadata": {},
   "outputs": [
    {
     "data": {
      "image/png": "[encoded data removed]",
      "text/plain": [
       "<Figure size 864x432 with 1 Axes>"
      ]
     },
     "metadata": {
      "needs_background": "light"
     },
     "output_type": "display_data"
    }
   ],
   "source": [
    "fig6 = Hist_BC_ONA.plot.hist(range=[-5, 115],bins=[-5, 0,5,10,15, 20,25, 30,35, 40,45, 50,55,60,65,70,75,80,85,90,95, 100, 105, 110, 115], title = 'Histogram of ONA BC data')\n",
    "fig6.set_xlabel('BC Concentration (ng.$m^-$$^3$)')\n",
    "\n",
    "# To save the figure\n",
    "plot.savefig('Figure 6 - Histogram of ONA BC data')"
   ]
  },
  {
   "cell_type": "code",
   "execution_count": 406,
   "metadata": {},
   "outputs": [],
   "source": [
    "# Check the histogram using a narrow timeframe:"
   ]
  },
  {
   "cell_type": "code",
   "execution_count": null,
   "metadata": {},
   "outputs": [],
   "source": []
  },
  {
   "cell_type": "code",
   "execution_count": 407,
   "metadata": {},
   "outputs": [
    {
     "data": {
      "image/png": "[encoded data removed]",
      "text/plain": [
       "<Figure size 864x432 with 1 Axes>"
      ]
     },
     "metadata": {
      "needs_background": "light"
     },
     "output_type": "display_data"
    }
   ],
   "source": [
    "fig7 = Hist_BC_ONA.plot.hist(range=[0, 20], bins=[0,1,2,3,4,5,6,7,8,9,10,11,12,13,14,15,16,17,18,19,20],title = 'Histogram of selected ONA BC data')\n",
    "fig7.set_xlabel('BC Concentration (ng.$m^-$$^3$)')\n",
    "\n",
    "# To save the figure\n",
    "plot.savefig('Figure 7 - Histogram of selected ONA BC data')"
   ]
  },
  {
   "cell_type": "code",
   "execution_count": 408,
   "metadata": {},
   "outputs": [],
   "source": [
    "# Goal: compare BC concentrations before and after ONA correction"
   ]
  },
  {
   "cell_type": "code",
   "execution_count": 409,
   "metadata": {},
   "outputs": [],
   "source": [
    "# 2.1. How to create a new dataframe (BC_ba: before and after) with the timestamp, BC data before and after correction, ATN and number of averaged points:"
   ]
  },
  {
   "cell_type": "code",
   "execution_count": null,
   "metadata": {},
   "outputs": [],
   "source": []
  },
  {
   "cell_type": "code",
   "execution_count": 411,
   "metadata": {},
   "outputs": [
    {
     "data": {
      "text/plain": [
       "Timestamp           object\n",
       "BC                 float64\n",
       "BC ONA             float64\n",
       "ATN                float64\n",
       "Points averaged    float64\n",
       "dtype: object"
      ]
     },
     "execution_count": 411,
     "metadata": {},
     "output_type": "execute_result"
    }
   ],
   "source": [
    "# 2.1.1. In order to avoid problems with the \"timestamp\", use the time collumn from the original csv file:\n",
    "Initial_BC = pd.read_csv('inputall2.csv', names=['Timestamp','BC','ATN'])\n",
    "\n",
    "# 2.1.2. Create the new dataframe:\n",
    "BC_ba = Initial_BC[['Timestamp']].join(Initial_BC[['BC']].join(Final_BC_ONA[['BC ONA']].join(Final_BC_ONA[['ATN']].join(Final_BC_ONA[['Points averaged']]))))\n",
    "\n",
    "# 2.1.3. \"BC\" is not in the correct format (float) but it is in the \"object\" format. To change:\n",
    "BC_ba[\"BC\"] = BC_ba.BC.astype(float)\n",
    "\n",
    "# 2.1.4. Check data types:\n",
    "BC_ba.dtypes"
   ]
  },
  {
   "cell_type": "code",
   "execution_count": 412,
   "metadata": {},
   "outputs": [
    {
     "data": {
      "image/png": "[encoded data removed]",
      "text/plain": [
       "<Figure size 864x432 with 1 Axes>"
      ]
     },
     "metadata": {
      "needs_background": "light"
     },
     "output_type": "display_data"
    },
    {
     "data": {
      "image/png": "[encoded data removed]",
      "text/plain": [
       "<Figure size 864x432 with 1 Axes>"
      ]
     },
     "metadata": {
      "needs_background": "light"
     },
     "output_type": "display_data"
    }
   ],
   "source": [
    "# 3. Graphs of BC before and after of ONA implementation:\n",
    "\n",
    "fig8 = BC_ba.plot('Timestamp', 'BC', title = 'Raw BC data during June2017 monitoring campaign',\n",
    "                   ylim=[-2000,2500])\n",
    "fig8.set_xlabel('Date')\n",
    "fig8.set_ylabel('BC Concentration (ng.$m^-$$^3$)')\n",
    "fig8.grid(True)\n",
    "\n",
    "# To save the figure\n",
    "plot.savefig('Figure 8 - Raw BC data')\n",
    "\n",
    "fig9 = BC_ba.plot('Timestamp', 'BC ONA', title = 'Corrected BC data during June2017 monitoring campaign',\n",
    "                   ylim=[0,120])\n",
    "fig9.set_xlabel('Date')\n",
    "fig9.set_ylabel('BC Concentration (ng.$m^-$$^3$)')\n",
    "fig9.grid(True)\n",
    "\n",
    "# To save the figure\n",
    "plot.savefig('Figure 9 - ONA corrected BC data')"
   ]
  },
  {
   "cell_type": "code",
   "execution_count": 420,
   "metadata": {},
   "outputs": [
    {
     "data": {
      "image/png": "[encoded data removed]",
      "text/plain": [
       "<Figure size 864x432 with 1 Axes>"
      ]
     },
     "metadata": {
      "needs_background": "light"
     },
     "output_type": "display_data"
    }
   ],
   "source": [
    "# 4. Graph of ATN\n",
    "\n",
    "fig10 = BC_ba.plot('Timestamp', 'ATN', title = 'ATN during June2017 monitoring campaign',\n",
    "                   ylim=[0,6])\n",
    "fig10.set_xlabel('Date')\n",
    "fig10.set_ylabel('Attenuation')\n",
    "fig10.grid(True)\n",
    "\n",
    "plot.savefig('Figure 10 - Attenuation during monitoring period')"
   ]
  },
  {
   "cell_type": "code",
   "execution_count": 414,
   "metadata": {},
   "outputs": [],
   "source": [
    "# 5. Writing and saving file with all data\n",
    "\n",
    "# This final csv file will have 5 different collumns: Timestamp, BC, BC ONA, ATN and Points averaged:\n",
    "\n",
    "selection = BC_ba\n",
    "\n",
    "output_selection = 'BC_ba_ONA_final.csv'\n",
    "\n",
    "# Save dataframe to csv\n",
    "selection.to_csv(output_selection, sep=',', index = False)\n",
    "\n",
    "# \"index = False\" will remove the column index"
   ]
  },
  {
   "cell_type": "code",
   "execution_count": 415,
   "metadata": {},
   "outputs": [
    {
     "name": "stdout",
     "output_type": "stream",
     "text": [
      "                 BC        BC ONA           ATN  Points averaged\n",
      "count  12485.000000  12484.000000  12484.000000     12484.000000\n",
      "mean       8.961554      8.962272      1.987688      6066.491990\n",
      "std      182.650442     15.379556      0.881127      3836.701844\n",
      "min    -1079.000000   -201.000000     -0.222000         3.000000\n",
      "25%      -28.000000      7.345347      1.510000       790.000000\n",
      "50%        6.000000      7.345347      2.049000      8629.000000\n",
      "75%       41.000000      7.345347      2.418000      8629.000000\n",
      "max    14837.000000    204.090909      4.537000      8629.000000\n"
     ]
    }
   ],
   "source": [
    "# 6. Get descritive statistics summary only for \"Temp\":\n",
    "stats = BC_ba[['BC','BC ONA','ATN','Points averaged']].describe()\n",
    "print(stats)"
   ]
  },
  {
   "cell_type": "code",
   "execution_count": 416,
   "metadata": {},
   "outputs": [],
   "source": [
    "# At the end of the script, the working folder should have the input file (csv), the output file with all data (csv) and 10 Figures regarding the "
   ]
  },
  {
   "cell_type": "code",
   "execution_count": 417,
   "metadata": {},
   "outputs": [],
   "source": [
    "# the performance of the ONA algorithm, raw and corrected data."
   ]
  },
  {
   "cell_type": "code",
   "execution_count": 418,
   "metadata": {},
   "outputs": [],
   "source": [
    "# The end!"
   ]
  },
  {
   "cell_type": "code",
   "execution_count": null,
   "metadata": {},
   "outputs": [],
   "source": []
  },
  {
   "cell_type": "code",
   "execution_count": null,
   "metadata": {},
   "outputs": [],
   "source": []
  },
  {
   "cell_type": "code",
   "execution_count": null,
   "metadata": {},
   "outputs": [],
   "source": []
  },
  {
   "cell_type": "code",
   "execution_count": null,
   "metadata": {},
   "outputs": [],
   "source": []
  },
  {
   "cell_type": "code",
   "execution_count": null,
   "metadata": {},
   "outputs": [],
   "source": []
  },
  {
   "cell_type": "code",
   "execution_count": null,
   "metadata": {},
   "outputs": [],
   "source": []
  },
  {
   "cell_type": "code",
   "execution_count": null,
   "metadata": {},
   "outputs": [],
   "source": []
  },
  {
   "cell_type": "code",
   "execution_count": null,
   "metadata": {},
   "outputs": [],
   "source": []
  },
  {
   "cell_type": "code",
   "execution_count": null,
   "metadata": {},
   "outputs": [],
   "source": []
  },
  {
   "cell_type": "code",
   "execution_count": null,
   "metadata": {},
   "outputs": [],
   "source": []
  },
  {
   "cell_type": "code",
   "execution_count": null,
   "metadata": {},
   "outputs": [],
   "source": []
  },
  {
   "cell_type": "code",
   "execution_count": null,
   "metadata": {},
   "outputs": [],
   "source": []
  },
  {
   "cell_type": "code",
   "execution_count": null,
   "metadata": {},
   "outputs": [],
   "source": []
  },
  {
   "cell_type": "code",
   "execution_count": null,
   "metadata": {},
   "outputs": [],
   "source": []
  },
  {
   "cell_type": "code",
   "execution_count": null,
   "metadata": {},
   "outputs": [],
   "source": []
  },
  {
   "cell_type": "code",
   "execution_count": null,
   "metadata": {},
   "outputs": [],
   "source": []
  },
  {
   "cell_type": "code",
   "execution_count": null,
   "metadata": {},
   "outputs": [],
   "source": []
  }
 ],
 "metadata": {
  "kernelspec": {
   "display_name": "Python 3",
   "language": "python",
   "name": "python3"
  },
  "language_info": {
   "codemirror_mode": {
    "name": "ipython",
    "version": 3
   },
   "file_extension": ".py",
   "mimetype": "text/x-python",
   "name": "python",
   "nbconvert_exporter": "python",
   "pygments_lexer": "ipython3",
   "version": "3.7.6"
  }
 },
 "nbformat": 4,
 "nbformat_minor": 4
}
